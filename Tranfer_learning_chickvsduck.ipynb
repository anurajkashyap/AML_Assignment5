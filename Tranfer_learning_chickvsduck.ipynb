{
  "nbformat": 4,
  "nbformat_minor": 0,
  "metadata": {
    "colab": {
      "provenance": [],
      "gpuType": "T4"
    },
    "kernelspec": {
      "name": "python3",
      "display_name": "Python 3"
    },
    "language_info": {
      "name": "python"
    },
    "accelerator": "GPU"
  },
  "cells": [
    {
      "cell_type": "markdown",
      "source": [
        "Importing important libraries"
      ],
      "metadata": {
        "id": "1Yam7JfmS1Wl"
      }
    },
    {
      "cell_type": "code",
      "execution_count": 1,
      "metadata": {
        "id": "GSmnQRv3lKd2"
      },
      "outputs": [],
      "source": [
        "from tensorflow.keras.layers import Input, Lambda, Dense, Flatten,Dropout\n",
        "from tensorflow.keras.models import Model\n",
        "from tensorflow.keras.applications.vgg19 import VGG19\n",
        "from tensorflow.keras.applications.vgg19 import preprocess_input\n",
        "from tensorflow.keras.preprocessing import image\n",
        "from tensorflow.keras.preprocessing.image import ImageDataGenerator\n",
        "from tensorflow.keras.models import Sequential\n",
        "import numpy as np\n",
        "import pandas as pd\n",
        "import os\n",
        "import cv2\n",
        "import matplotlib.pyplot as plt"
      ]
    },
    {
      "cell_type": "markdown",
      "source": [
        "Loading images for making model"
      ],
      "metadata": {
        "id": "qLEe6HWTS8aU"
      }
    },
    {
      "cell_type": "code",
      "source": [
        "\n",
        "import os\n",
        "import shutil\n",
        "\n",
        "# Define the source folder\n",
        "source_folder = \"/content/drive/MyDrive/chick_or_duck\"\n",
        "\n",
        "# Define the destination folders\n",
        "train_folder = \"/content/drive/MyDrive/chick_or_duck/train\"\n",
        "test_folder = \"/content/drive/MyDrive/chick_or_duck/test\"\n",
        "val_folder = \"/content/drive/MyDrive/chick_or_duck/val\""
      ],
      "metadata": {
        "id": "DyQQTS7bE31U"
      },
      "execution_count": 2,
      "outputs": []
    },
    {
      "cell_type": "code",
      "source": [
        "\n",
        "import os\n",
        "import shutil\n",
        "\n",
        "# Define the source folder\n",
        "source_folder = \"/content/drive/MyDrive/chick_or_duck\"\n",
        "\n",
        "# Define the destination folders\n",
        "train_folder = \"/content/drive/MyDrive/chick_or_duck/train\"\n",
        "test_folder = \"/content/drive/MyDrive/chick_or_duck/test\"\n",
        "val_folder = \"/content/drive/MyDrive/chick_or_duck/val\"\n",
        "\n",
        "# Create the destination folders if they don't exist\n",
        "os.makedirs(train_folder, exist_ok=True)\n",
        "os.makedirs(test_folder, exist_ok=True)\n",
        "os.makedirs(val_folder, exist_ok=True)\n",
        "\n",
        "# Define the classes\n",
        "classes = [\"duck\", \"chick\"]\n",
        "\n",
        "# Split the images into train, test, and validation sets\n",
        "for class_name in classes:\n",
        "  class_folder = os.path.join(source_folder, class_name)\n",
        "  images = os.listdir(class_folder)\n",
        "\n",
        "  # Split the images into train, test, and validation sets\n",
        "  train_size = int(len(images) * 0.7)\n",
        "  test_size = int(len(images) * 0.15)\n",
        "  val_size = len(images) - train_size - test_size\n",
        "\n",
        "  train_images = images[:train_size]\n",
        "  test_images = images[train_size:train_size+test_size]\n",
        "  val_images = images[train_size+test_size:]\n",
        "\n",
        "  os.makedirs(train_folder + '/' + class_name, exist_ok=True)\n",
        "  os.makedirs(test_folder + '/' + class_name, exist_ok=True)\n",
        "  os.makedirs(val_folder + '/' + class_name, exist_ok=True)\n",
        "\n",
        "  # Copy the images to the destination folders\n",
        "  for image in train_images:\n",
        "    source_path = os.path.join(class_folder, image)\n",
        "    shutil.copy(source_path, train_folder + '/' + class_name)\n",
        "\n",
        "  for image in test_images:\n",
        "    source_path = os.path.join(class_folder, image)\n",
        "    shutil.copy(source_path, test_folder + '/' + class_name)\n",
        "\n",
        "  for image in val_images:\n",
        "    source_path = os.path.join(class_folder, image)\n",
        "    shutil.copy(source_path, val_folder + '/' + class_name)\n"
      ],
      "metadata": {
        "id": "fQyDgzYz2ypI"
      },
      "execution_count": 7,
      "outputs": []
    },
    {
      "cell_type": "markdown",
      "source": [
        "Transforming image data into trainable format"
      ],
      "metadata": {
        "id": "Z00x6lk0TRk-"
      }
    },
    {
      "cell_type": "code",
      "source": [
        "x_train=[]\n",
        "\n",
        "for folder in os.listdir(train_folder):\n",
        "\n",
        "    sub_path=train_folder+\"/\"+folder\n",
        "\n",
        "    for img in os.listdir(sub_path):\n",
        "\n",
        "        image_path=sub_path+\"/\"+img\n",
        "\n",
        "        img_arr=cv2.imread(image_path)\n",
        "\n",
        "        img_arr=cv2.resize(img_arr,(224,224))\n",
        "\n",
        "        x_train.append(img_arr)\n",
        "\n",
        "x_test=[]\n",
        "\n",
        "for folder in os.listdir(test_folder):\n",
        "\n",
        "    sub_path=test_folder+\"/\"+folder\n",
        "\n",
        "    for img in os.listdir(sub_path):\n",
        "\n",
        "        image_path=sub_path+\"/\"+img\n",
        "\n",
        "        img_arr=cv2.imread(image_path)\n",
        "\n",
        "        img_arr=cv2.resize(img_arr,(224,224))\n",
        "\n",
        "        x_test.append(img_arr)\n",
        "\n",
        "x_val=[]\n",
        "\n",
        "for folder in os.listdir(val_folder):\n",
        "\n",
        "    sub_path=val_folder+\"/\"+folder\n",
        "\n",
        "    for img in os.listdir(sub_path):\n",
        "\n",
        "        image_path=sub_path+\"/\"+img\n",
        "\n",
        "        img_arr=cv2.imread(image_path)\n",
        "\n",
        "        img_arr=cv2.resize(img_arr,(224,224))\n",
        "\n",
        "        x_val.append(img_arr)"
      ],
      "metadata": {
        "id": "mPd1v3Pi4amP"
      },
      "execution_count": 58,
      "outputs": []
    },
    {
      "cell_type": "code",
      "source": [
        "train_x=np.array(x_train)\n",
        "test_x=np.array(x_test)\n",
        "val_x=np.array(x_val)\n",
        "train_x=train_x/255.0\n",
        "test_x=test_x/255.0\n",
        "val_x=val_x/255.0"
      ],
      "metadata": {
        "id": "0rRI2j38CFLl"
      },
      "execution_count": 59,
      "outputs": []
    },
    {
      "cell_type": "code",
      "source": [
        "train_datagen = ImageDataGenerator(rescale = 1./255)\n",
        "test_datagen = ImageDataGenerator(rescale = 1./255)\n",
        "val_datagen = ImageDataGenerator(rescale = 1./255)\n",
        "training_set = train_datagen.flow_from_directory(train_folder,\n",
        "                                                 target_size = (224, 224),\n",
        "                                                 batch_size = 32,\n",
        "                                                 class_mode = 'sparse',\n",
        "                                                 shuffle = True)\n",
        "test_set = test_datagen.flow_from_directory(test_folder,\n",
        "                                            target_size = (224, 224),\n",
        "                                            batch_size = 32,\n",
        "                                            class_mode = 'sparse',\n",
        "                                                 shuffle = True)\n",
        "val_set = val_datagen.flow_from_directory(val_folder,\n",
        "                                            target_size = (224, 224),\n",
        "                                            batch_size = 32,\n",
        "                                            class_mode = 'sparse',\n",
        "                                                 shuffle = True)"
      ],
      "metadata": {
        "colab": {
          "base_uri": "https://localhost:8080/"
        },
        "id": "4xN_8RwrCSG3",
        "outputId": "5c397c54-f8f0-4d1d-eb5d-709b4b57a878"
      },
      "execution_count": 60,
      "outputs": [
        {
          "output_type": "stream",
          "name": "stdout",
          "text": [
            "Found 140 images belonging to 2 classes.\n",
            "Found 30 images belonging to 2 classes.\n",
            "Found 30 images belonging to 2 classes.\n"
          ]
        }
      ]
    },
    {
      "cell_type": "code",
      "source": [
        "train_y=training_set.classes\n",
        "test_y=test_set.classes\n",
        "val_y=val_set.classes"
      ],
      "metadata": {
        "id": "XXk-kjwjCq28"
      },
      "execution_count": 61,
      "outputs": []
    },
    {
      "cell_type": "markdown",
      "source": [
        "Implementing transfer learning using vgg19 and experimenting with different model checkpoints to find the optimal model"
      ],
      "metadata": {
        "id": "kOX3IIk0T7cu"
      }
    },
    {
      "cell_type": "code",
      "source": [
        "vgg = VGG19(input_shape=[224, 224] + [3], weights='imagenet', include_top=False)\n",
        "#do not train the pre-trained layers of VGG-19\n",
        "for layer in vgg.layers:\n",
        "    layer.trainable = False"
      ],
      "metadata": {
        "id": "GdgDOJXDC1m5"
      },
      "execution_count": 62,
      "outputs": []
    },
    {
      "cell_type": "code",
      "source": [
        "x = Flatten()(vgg.output)\n",
        "#adding output layer.Softmax classifier is used as it is multi-class classification\n",
        "\n",
        "\n",
        "x = Dense(12, activation=\"relu\")(x)\n",
        "x = Dense(24, activation=\"relu\")(x)\n",
        "x = Dropout(0.25)(x)\n",
        "x = Dense(36, activation=\"relu\")(x)\n",
        "x = Dropout(0.25)(x)\n",
        "x = Dense(24, activation=\"relu\")(x)\n",
        "x = Dense(12, activation=\"relu\")(x)\n",
        "prediction = Dense(1, activation='sigmoid')(x)\n",
        "\n",
        "model = Model(inputs=vgg.input, outputs=prediction)"
      ],
      "metadata": {
        "id": "Rkkr94xjC3SR"
      },
      "execution_count": 63,
      "outputs": []
    },
    {
      "cell_type": "code",
      "source": [
        "# view the structure of the model\n",
        "model.summary()"
      ],
      "metadata": {
        "colab": {
          "base_uri": "https://localhost:8080/"
        },
        "id": "6Kwo2GrKDtJp",
        "outputId": "0a323a77-607a-443f-9b48-283942f515fb"
      },
      "execution_count": 64,
      "outputs": [
        {
          "output_type": "stream",
          "name": "stdout",
          "text": [
            "Model: \"model_5\"\n",
            "_________________________________________________________________\n",
            " Layer (type)                Output Shape              Param #   \n",
            "=================================================================\n",
            " input_7 (InputLayer)        [(None, 224, 224, 3)]     0         \n",
            "                                                                 \n",
            " block1_conv1 (Conv2D)       (None, 224, 224, 64)      1792      \n",
            "                                                                 \n",
            " block1_conv2 (Conv2D)       (None, 224, 224, 64)      36928     \n",
            "                                                                 \n",
            " block1_pool (MaxPooling2D)  (None, 112, 112, 64)      0         \n",
            "                                                                 \n",
            " block2_conv1 (Conv2D)       (None, 112, 112, 128)     73856     \n",
            "                                                                 \n",
            " block2_conv2 (Conv2D)       (None, 112, 112, 128)     147584    \n",
            "                                                                 \n",
            " block2_pool (MaxPooling2D)  (None, 56, 56, 128)       0         \n",
            "                                                                 \n",
            " block3_conv1 (Conv2D)       (None, 56, 56, 256)       295168    \n",
            "                                                                 \n",
            " block3_conv2 (Conv2D)       (None, 56, 56, 256)       590080    \n",
            "                                                                 \n",
            " block3_conv3 (Conv2D)       (None, 56, 56, 256)       590080    \n",
            "                                                                 \n",
            " block3_conv4 (Conv2D)       (None, 56, 56, 256)       590080    \n",
            "                                                                 \n",
            " block3_pool (MaxPooling2D)  (None, 28, 28, 256)       0         \n",
            "                                                                 \n",
            " block4_conv1 (Conv2D)       (None, 28, 28, 512)       1180160   \n",
            "                                                                 \n",
            " block4_conv2 (Conv2D)       (None, 28, 28, 512)       2359808   \n",
            "                                                                 \n",
            " block4_conv3 (Conv2D)       (None, 28, 28, 512)       2359808   \n",
            "                                                                 \n",
            " block4_conv4 (Conv2D)       (None, 28, 28, 512)       2359808   \n",
            "                                                                 \n",
            " block4_pool (MaxPooling2D)  (None, 14, 14, 512)       0         \n",
            "                                                                 \n",
            " block5_conv1 (Conv2D)       (None, 14, 14, 512)       2359808   \n",
            "                                                                 \n",
            " block5_conv2 (Conv2D)       (None, 14, 14, 512)       2359808   \n",
            "                                                                 \n",
            " block5_conv3 (Conv2D)       (None, 14, 14, 512)       2359808   \n",
            "                                                                 \n",
            " block5_conv4 (Conv2D)       (None, 14, 14, 512)       2359808   \n",
            "                                                                 \n",
            " block5_pool (MaxPooling2D)  (None, 7, 7, 512)         0         \n",
            "                                                                 \n",
            " flatten_7 (Flatten)         (None, 25088)             0         \n",
            "                                                                 \n",
            " dense_15 (Dense)            (None, 12)                301068    \n",
            "                                                                 \n",
            " dense_16 (Dense)            (None, 24)                312       \n",
            "                                                                 \n",
            " dropout (Dropout)           (None, 24)                0         \n",
            "                                                                 \n",
            " dense_17 (Dense)            (None, 36)                900       \n",
            "                                                                 \n",
            " dropout_1 (Dropout)         (None, 36)                0         \n",
            "                                                                 \n",
            " dense_18 (Dense)            (None, 24)                888       \n",
            "                                                                 \n",
            " dense_19 (Dense)            (None, 12)                300       \n",
            "                                                                 \n",
            " dense_20 (Dense)            (None, 1)                 13        \n",
            "                                                                 \n",
            "=================================================================\n",
            "Total params: 20327865 (77.54 MB)\n",
            "Trainable params: 303481 (1.16 MB)\n",
            "Non-trainable params: 20024384 (76.39 MB)\n",
            "_________________________________________________________________\n"
          ]
        }
      ]
    },
    {
      "cell_type": "code",
      "source": [
        "model.compile(\n",
        "  loss='binary_crossentropy',\n",
        "  optimizer=\"adam\",\n",
        "  metrics=['accuracy']\n",
        ")"
      ],
      "metadata": {
        "id": "TK8pAWGCGg4-"
      },
      "execution_count": 65,
      "outputs": []
    },
    {
      "cell_type": "code",
      "source": [
        "from tensorflow.keras.callbacks import EarlyStopping, ModelCheckpoint\n",
        "early_stop=EarlyStopping(monitor='val_loss',mode='min',verbose=1,patience=5)\n",
        "#Early stopping to avoid overfitting of model\n",
        "least_loss = ModelCheckpoint(\n",
        "    filepath='least_loss',\n",
        "    monitor='val_loss',\n",
        "    mode='min',\n",
        "    save_best_only=True)\n",
        "\n",
        "max_acc = ModelCheckpoint(\n",
        "    filepath='max_acc',\n",
        "    monitor='val_accuracy',\n",
        "    mode='max',\n",
        "    save_best_only=True)"
      ],
      "metadata": {
        "id": "wOkGlmsgHDNv"
      },
      "execution_count": 66,
      "outputs": []
    },
    {
      "cell_type": "code",
      "source": [
        "# fit the model\n",
        "history = model.fit(\n",
        "  train_x,\n",
        "  train_y,\n",
        "  validation_data=(val_x,val_y),\n",
        "  epochs=50,\n",
        "  callbacks=[early_stop, least_loss, max_acc],\n",
        "  batch_size=32,shuffle=True)"
      ],
      "metadata": {
        "colab": {
          "base_uri": "https://localhost:8080/"
        },
        "id": "EMxMjbt5HKJf",
        "outputId": "f9b2b80f-cc3b-40f7-8335-f14e5ad3dd5d"
      },
      "execution_count": 67,
      "outputs": [
        {
          "output_type": "stream",
          "name": "stdout",
          "text": [
            "Epoch 1/50\n",
            "5/5 [==============================] - 11s 2s/step - loss: 0.7292 - accuracy: 0.4643 - val_loss: 0.7037 - val_accuracy: 0.5000\n",
            "Epoch 2/50\n",
            "5/5 [==============================] - 6s 1s/step - loss: 0.6762 - accuracy: 0.5500 - val_loss: 0.6717 - val_accuracy: 0.7000\n",
            "Epoch 3/50\n",
            "5/5 [==============================] - 4s 991ms/step - loss: 0.6208 - accuracy: 0.5429 - val_loss: 0.6463 - val_accuracy: 0.5000\n",
            "Epoch 4/50\n",
            "5/5 [==============================] - 4s 886ms/step - loss: 0.5871 - accuracy: 0.5000 - val_loss: 0.6164 - val_accuracy: 0.5000\n",
            "Epoch 5/50\n",
            "5/5 [==============================] - 6s 1s/step - loss: 0.5247 - accuracy: 0.7857 - val_loss: 0.5740 - val_accuracy: 0.7667\n",
            "Epoch 6/50\n",
            "5/5 [==============================] - 4s 982ms/step - loss: 0.4606 - accuracy: 0.7786 - val_loss: 0.5154 - val_accuracy: 0.7000\n",
            "Epoch 7/50\n",
            "5/5 [==============================] - 6s 1s/step - loss: 0.4138 - accuracy: 0.8786 - val_loss: 0.4728 - val_accuracy: 0.8333\n",
            "Epoch 8/50\n",
            "5/5 [==============================] - 4s 961ms/step - loss: 0.3832 - accuracy: 0.9000 - val_loss: 0.4503 - val_accuracy: 0.8000\n",
            "Epoch 9/50\n",
            "5/5 [==============================] - 6s 1s/step - loss: 0.3669 - accuracy: 0.9786 - val_loss: 0.4433 - val_accuracy: 0.8667\n",
            "Epoch 10/50\n",
            "5/5 [==============================] - 3s 758ms/step - loss: 0.3485 - accuracy: 1.0000 - val_loss: 0.4213 - val_accuracy: 0.8333\n",
            "Epoch 11/50\n",
            "5/5 [==============================] - 1s 172ms/step - loss: 0.3286 - accuracy: 0.9786 - val_loss: 0.4974 - val_accuracy: 0.7000\n",
            "Epoch 12/50\n",
            "5/5 [==============================] - 5s 1s/step - loss: 0.3194 - accuracy: 0.9714 - val_loss: 0.4037 - val_accuracy: 0.8667\n",
            "Epoch 13/50\n",
            "5/5 [==============================] - 1s 166ms/step - loss: 0.3212 - accuracy: 1.0000 - val_loss: 0.4147 - val_accuracy: 0.8667\n",
            "Epoch 14/50\n",
            "5/5 [==============================] - 1s 167ms/step - loss: 0.3128 - accuracy: 0.9929 - val_loss: 0.4168 - val_accuracy: 0.8667\n",
            "Epoch 15/50\n",
            "5/5 [==============================] - 1s 168ms/step - loss: 0.2944 - accuracy: 1.0000 - val_loss: 0.4778 - val_accuracy: 0.7000\n",
            "Epoch 16/50\n",
            "5/5 [==============================] - 6s 1s/step - loss: 0.2881 - accuracy: 0.9929 - val_loss: 0.3767 - val_accuracy: 0.9000\n",
            "Epoch 17/50\n",
            "5/5 [==============================] - 5s 1s/step - loss: 0.2830 - accuracy: 1.0000 - val_loss: 0.3739 - val_accuracy: 0.8667\n",
            "Epoch 18/50\n",
            "5/5 [==============================] - 3s 758ms/step - loss: 0.2698 - accuracy: 0.9929 - val_loss: 0.3636 - val_accuracy: 0.9000\n",
            "Epoch 19/50\n",
            "5/5 [==============================] - 1s 175ms/step - loss: 0.2607 - accuracy: 1.0000 - val_loss: 0.3752 - val_accuracy: 0.8667\n",
            "Epoch 20/50\n",
            "5/5 [==============================] - 1s 169ms/step - loss: 0.2391 - accuracy: 1.0000 - val_loss: 0.4249 - val_accuracy: 0.8333\n",
            "Epoch 21/50\n",
            "5/5 [==============================] - 4s 852ms/step - loss: 0.2269 - accuracy: 1.0000 - val_loss: 0.3632 - val_accuracy: 0.8667\n",
            "Epoch 22/50\n",
            "5/5 [==============================] - 4s 987ms/step - loss: 0.2119 - accuracy: 1.0000 - val_loss: 0.3191 - val_accuracy: 0.9000\n",
            "Epoch 23/50\n",
            "5/5 [==============================] - 4s 868ms/step - loss: 0.2001 - accuracy: 1.0000 - val_loss: 0.3053 - val_accuracy: 0.9000\n",
            "Epoch 24/50\n",
            "5/5 [==============================] - 1s 167ms/step - loss: 0.1756 - accuracy: 1.0000 - val_loss: 0.3082 - val_accuracy: 0.9000\n",
            "Epoch 25/50\n",
            "5/5 [==============================] - 1s 168ms/step - loss: 0.1579 - accuracy: 1.0000 - val_loss: 0.3380 - val_accuracy: 0.8667\n",
            "Epoch 26/50\n",
            "5/5 [==============================] - 1s 169ms/step - loss: 0.1325 - accuracy: 1.0000 - val_loss: 0.3365 - val_accuracy: 0.8667\n",
            "Epoch 27/50\n",
            "5/5 [==============================] - 1s 169ms/step - loss: 0.1120 - accuracy: 1.0000 - val_loss: 0.3565 - val_accuracy: 0.8667\n",
            "Epoch 28/50\n",
            "5/5 [==============================] - 1s 169ms/step - loss: 0.0972 - accuracy: 1.0000 - val_loss: 0.3934 - val_accuracy: 0.8333\n",
            "Epoch 28: early stopping\n"
          ]
        }
      ]
    },
    {
      "cell_type": "code",
      "source": [
        "# accuracies\n",
        "\n",
        "plt.plot(history.history['accuracy'], label='train acc')\n",
        "\n",
        "plt.plot(history.history['val_accuracy'], label='val acc')\n",
        "\n",
        "plt.legend()\n",
        "\n",
        "plt.savefig('vgg-acc-rps-1.png')\n",
        "\n",
        "plt.show()\n",
        "# loss\n",
        "plt.plot(history.history['loss'], label='train loss')\n",
        "plt.plot(history.history['val_loss'], label='val loss')\n",
        "plt.legend()\n",
        "plt.savefig('vgg-loss-rps-1.png')\n",
        "plt.show()\n"
      ],
      "metadata": {
        "colab": {
          "base_uri": "https://localhost:8080/",
          "height": 843
        },
        "id": "IsCy-NYCHN9V",
        "outputId": "395a57ac-beba-45ce-87a9-03311b30fe47"
      },
      "execution_count": 68,
      "outputs": [
        {
          "output_type": "display_data",
          "data": {
            "text/plain": [
              "<Figure size 640x480 with 1 Axes>"
            ],
            "image/png": "[encoded data removed]"
          },
          "metadata": {}
        },
        {
          "output_type": "display_data",
          "data": {
            "text/plain": [
              "<Figure size 640x480 with 1 Axes>"
            ],
            "image/png": "[encoded data removed]"
          },
          "metadata": {}
        }
      ]
    },
    {
      "cell_type": "code",
      "source": [
        "model.evaluate(test_x,test_y,batch_size=32)"
      ],
      "metadata": {
        "colab": {
          "base_uri": "https://localhost:8080/"
        },
        "id": "czsIMNtqHi5E",
        "outputId": "5a6affca-4814-4575-a947-715903376fda"
      },
      "execution_count": 69,
      "outputs": [
        {
          "output_type": "stream",
          "name": "stdout",
          "text": [
            "1/1 [==============================] - 0s 220ms/step - loss: 0.4692 - accuracy: 0.8000\n"
          ]
        },
        {
          "output_type": "execute_result",
          "data": {
            "text/plain": [
              "[0.4692491888999939, 0.800000011920929]"
            ]
          },
          "metadata": {},
          "execution_count": 69
        }
      ]
    },
    {
      "cell_type": "code",
      "source": [
        "x = Flatten()(vgg.output)\n",
        "#adding output layer.Softmax classifier is used as it is multi-class classification\n",
        "\n",
        "\n",
        "x = Dense(12, activation=\"relu\")(x)\n",
        "x = Dense(24, activation=\"relu\")(x)\n",
        "x = Dropout(0.25)(x)\n",
        "x = Dense(36, activation=\"relu\")(x)\n",
        "x = Dropout(0.25)(x)\n",
        "x = Dense(24, activation=\"relu\")(x)\n",
        "x = Dense(12, activation=\"relu\")(x)\n",
        "prediction = Dense(1, activation='sigmoid')(x)\n",
        "\n",
        "model_loss = Model(inputs=vgg.input, outputs=prediction)"
      ],
      "metadata": {
        "id": "QbtNsx_3HxK5"
      },
      "execution_count": 71,
      "outputs": []
    },
    {
      "cell_type": "code",
      "source": [
        "model_loss.compile(\n",
        "  loss='binary_crossentropy',\n",
        "  optimizer=\"adam\",\n",
        "  metrics=['accuracy']\n",
        ")"
      ],
      "metadata": {
        "id": "yD2sR0k6RG5y"
      },
      "execution_count": 73,
      "outputs": []
    },
    {
      "cell_type": "code",
      "source": [
        "model_loss.load_weights('/content/least_loss')"
      ],
      "metadata": {
        "colab": {
          "base_uri": "https://localhost:8080/"
        },
        "id": "hqtpkckrRM78",
        "outputId": "31ad6f5d-8fb9-4e09-a238-912ee4ad43e9"
      },
      "execution_count": 74,
      "outputs": [
        {
          "output_type": "execute_result",
          "data": {
            "text/plain": [
              "<tensorflow.python.checkpoint.checkpoint.CheckpointLoadStatus at 0x7dc32ca65a80>"
            ]
          },
          "metadata": {},
          "execution_count": 74
        }
      ]
    },
    {
      "cell_type": "code",
      "source": [
        "model_loss.evaluate(test_x,test_y,batch_size=32)"
      ],
      "metadata": {
        "colab": {
          "base_uri": "https://localhost:8080/"
        },
        "id": "d3iZ9yOPRfyn",
        "outputId": "4213999e-939b-4f94-9089-7fe87d29a184"
      },
      "execution_count": 75,
      "outputs": [
        {
          "output_type": "stream",
          "name": "stdout",
          "text": [
            "1/1 [==============================] - 1s 879ms/step - loss: 0.2810 - accuracy: 0.9333\n"
          ]
        },
        {
          "output_type": "execute_result",
          "data": {
            "text/plain": [
              "[0.2809551954269409, 0.9333333373069763]"
            ]
          },
          "metadata": {},
          "execution_count": 75
        }
      ]
    },
    {
      "cell_type": "code",
      "source": [
        "x = Flatten()(vgg.output)\n",
        "#adding output layer.Softmax classifier is used as it is multi-class classification\n",
        "\n",
        "\n",
        "x = Dense(12, activation=\"relu\")(x)\n",
        "x = Dense(24, activation=\"relu\")(x)\n",
        "x = Dropout(0.25)(x)\n",
        "x = Dense(36, activation=\"relu\")(x)\n",
        "x = Dropout(0.25)(x)\n",
        "x = Dense(24, activation=\"relu\")(x)\n",
        "x = Dense(12, activation=\"relu\")(x)\n",
        "prediction = Dense(1, activation='sigmoid')(x)\n",
        "\n",
        "model_acc = Model(inputs=vgg.input, outputs=prediction)"
      ],
      "metadata": {
        "id": "3LtMueUBR2UO"
      },
      "execution_count": 77,
      "outputs": []
    },
    {
      "cell_type": "code",
      "source": [
        "model_acc.compile(\n",
        "  loss='binary_crossentropy',\n",
        "  optimizer=\"adam\",\n",
        "  metrics=['accuracy']\n",
        ")"
      ],
      "metadata": {
        "id": "aLD5Vm3nSJXq"
      },
      "execution_count": 78,
      "outputs": []
    },
    {
      "cell_type": "code",
      "source": [
        "model_acc.load_weights('/content/max_acc')"
      ],
      "metadata": {
        "colab": {
          "base_uri": "https://localhost:8080/"
        },
        "id": "jYQZsOzzSM6W",
        "outputId": "26de3a26-c8de-49fb-9ee1-e6091c8e7817"
      },
      "execution_count": 79,
      "outputs": [
        {
          "output_type": "execute_result",
          "data": {
            "text/plain": [
              "<tensorflow.python.checkpoint.checkpoint.CheckpointLoadStatus at 0x7dc32d821ab0>"
            ]
          },
          "metadata": {},
          "execution_count": 79
        }
      ]
    },
    {
      "cell_type": "code",
      "source": [
        "model_acc.evaluate(test_x,test_y,batch_size=32)"
      ],
      "metadata": {
        "colab": {
          "base_uri": "https://localhost:8080/"
        },
        "id": "25WyMmprSWEb",
        "outputId": "f6802c37-6a1e-4558-a436-8b8f6130e05d"
      },
      "execution_count": 80,
      "outputs": [
        {
          "output_type": "stream",
          "name": "stdout",
          "text": [
            "1/1 [==============================] - 1s 872ms/step - loss: 0.3655 - accuracy: 0.8667\n"
          ]
        },
        {
          "output_type": "execute_result",
          "data": {
            "text/plain": [
              "[0.3654993772506714, 0.8666666746139526]"
            ]
          },
          "metadata": {},
          "execution_count": 80
        }
      ]
    },
    {
      "cell_type": "code",
      "source": [
        "\n",
        "shutil.move('/content/max_acc', '/content/drive/MyDrive/chick_or_duck')"
      ],
      "metadata": {
        "colab": {
          "base_uri": "https://localhost:8080/",
          "height": 35
        },
        "id": "S19n8YGsb7X4",
        "outputId": "1c57c350-9231-4a89-9717-90cbd523cd76"
      },
      "execution_count": 83,
      "outputs": [
        {
          "output_type": "execute_result",
          "data": {
            "text/plain": [
              "'/content/drive/MyDrive/chick_or_duck/max_acc'"
            ],
            "application/vnd.google.colaboratory.intrinsic+json": {
              "type": "string"
            }
          },
          "metadata": {},
          "execution_count": 83
        }
      ]
    },
    {
      "cell_type": "markdown",
      "source": [
        "model_loss is the best model from the above stated models"
      ],
      "metadata": {
        "id": "rrNhadGcUaB9"
      }
    }
  ]
}